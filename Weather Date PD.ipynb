{
 "cells": [
  {
   "cell_type": "code",
   "execution_count": 1,
   "metadata": {},
   "outputs": [],
   "source": [
    "# Set dependencies\n",
    "from config import apikey\n",
    "import requests\n",
    "from pprint import pprint\n",
    "import json\n",
    "from datetime import datetime\n",
    "import pandas as pd\n",
    "\n",
    "#set api url and variables\n",
    "url = \"https://api.darksky.net/forecast/\"\n",
    "latitude = 34.0348\n",
    "longitude = -118.2362\n",
    "\n",
    "#set lists\n",
    "date_list = []\n",
    "high_list = []\n",
    "low_list = []\n",
    "rain_list = []"
   ]
  },
  {
   "cell_type": "code",
   "execution_count": 2,
   "metadata": {},
   "outputs": [],
   "source": [
    "for x in range(0, 366):\n",
    "    # Date at 12:00 for every day of the year\n",
    "    time = (1451649600 + (x * 86400)) \n",
    "    \n",
    "    # Calls API on latitude, longitude, and time\n",
    "    response = requests.get(f\"https://api.darksky.net/forecast/{apikey}/{latitude},{longitude},{time}\")\n",
    "    data = response.json()\n",
    "    \n",
    "    # Pulls Temp high, low, daily rain, and date\n",
    "    high_list.append(data['daily']['data'][0]['apparentTemperatureHigh'])\n",
    "    low_list.append(data['daily']['data'][0]['apparentTemperatureLow'])\n",
    "    rain_list.append(data['daily']['data'][0]['precipIntensityMax'] * 5)\n",
    "    unix = data['daily']['data'][0]['time']\n",
    "    date = datetime.utcfromtimestamp(unix).strftime('%Y-%m-%d')\n",
    "    date_list.append(date)"
   ]
  },
  {
   "cell_type": "code",
   "execution_count": 4,
   "metadata": {},
   "outputs": [],
   "source": [
    "weatherdate = {\"Date\": date_list,\n",
    "              \"Temp High\": high_list,\n",
    "              \"Temp Low\": low_list,\n",
    "              \"Rain level (inches)\": rain_list}\n",
    "weatherdate_pd = pd.DataFrame.from_dict(weatherdate)\n",
    "weatherdate_pd.to_csv(\"Resources/weather_date.csv\", encoding='utf-8', index=False)"
   ]
  },
  {
   "cell_type": "code",
   "execution_count": null,
   "metadata": {},
   "outputs": [],
   "source": []
  }
 ],
 "metadata": {
  "kernelspec": {
   "display_name": "Python [conda env:DanielData]",
   "language": "python",
   "name": "conda-env-DanielData-py"
  },
  "language_info": {
   "codemirror_mode": {
    "name": "ipython",
    "version": 3
   },
   "file_extension": ".py",
   "mimetype": "text/x-python",
   "name": "python",
   "nbconvert_exporter": "python",
   "pygments_lexer": "ipython3",
   "version": "3.6.5"
  }
 },
 "nbformat": 4,
 "nbformat_minor": 2
}
