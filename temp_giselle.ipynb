{
 "cells": [
  {
   "cell_type": "code",
   "execution_count": 1,
   "metadata": {},
   "outputs": [],
   "source": [
    "from matplotlib import pyplot as plt\n",
    "from scipy import stats\n",
    "import numpy as np\n",
    "import pandas as pd\n",
    "import scipy.optimize as opt\n",
    "import statsmodels.api as sm"
   ]
  },
  {
   "cell_type": "code",
   "execution_count": 2,
   "metadata": {},
   "outputs": [
    {
     "data": {
      "text/html": [
       "<div>\n",
       "<style scoped>\n",
       "    .dataframe tbody tr th:only-of-type {\n",
       "        vertical-align: middle;\n",
       "    }\n",
       "\n",
       "    .dataframe tbody tr th {\n",
       "        vertical-align: top;\n",
       "    }\n",
       "\n",
       "    .dataframe thead th {\n",
       "        text-align: right;\n",
       "    }\n",
       "</style>\n",
       "<table border=\"1\" class=\"dataframe\">\n",
       "  <thead>\n",
       "    <tr style=\"text-align: right;\">\n",
       "      <th></th>\n",
       "      <th>Date</th>\n",
       "      <th>Temp High</th>\n",
       "      <th>Temp Low</th>\n",
       "      <th>Rain level (inches)</th>\n",
       "      <th>Collision Count</th>\n",
       "    </tr>\n",
       "  </thead>\n",
       "  <tbody>\n",
       "    <tr>\n",
       "      <th>0</th>\n",
       "      <td>1/1/2016</td>\n",
       "      <td>64.34</td>\n",
       "      <td>46.96</td>\n",
       "      <td>0.000</td>\n",
       "      <td>137</td>\n",
       "    </tr>\n",
       "    <tr>\n",
       "      <th>1</th>\n",
       "      <td>1/2/2016</td>\n",
       "      <td>64.67</td>\n",
       "      <td>46.02</td>\n",
       "      <td>0.000</td>\n",
       "      <td>97</td>\n",
       "    </tr>\n",
       "    <tr>\n",
       "      <th>2</th>\n",
       "      <td>1/3/2016</td>\n",
       "      <td>61.68</td>\n",
       "      <td>54.76</td>\n",
       "      <td>0.000</td>\n",
       "      <td>101</td>\n",
       "    </tr>\n",
       "    <tr>\n",
       "      <th>3</th>\n",
       "      <td>1/4/2016</td>\n",
       "      <td>67.59</td>\n",
       "      <td>55.12</td>\n",
       "      <td>0.001</td>\n",
       "      <td>122</td>\n",
       "    </tr>\n",
       "    <tr>\n",
       "      <th>4</th>\n",
       "      <td>1/5/2016</td>\n",
       "      <td>56.98</td>\n",
       "      <td>47.89</td>\n",
       "      <td>1.173</td>\n",
       "      <td>128</td>\n",
       "    </tr>\n",
       "  </tbody>\n",
       "</table>\n",
       "</div>"
      ],
      "text/plain": [
       "       Date  Temp High  Temp Low  Rain level (inches)  Collision Count\n",
       "0  1/1/2016      64.34     46.96                0.000              137\n",
       "1  1/2/2016      64.67     46.02                0.000               97\n",
       "2  1/3/2016      61.68     54.76                0.000              101\n",
       "3  1/4/2016      67.59     55.12                0.001              122\n",
       "4  1/5/2016      56.98     47.89                1.173              128"
      ]
     },
     "execution_count": 2,
     "metadata": {},
     "output_type": "execute_result"
    }
   ],
   "source": [
    "path= \"./Result/Daily_weather_and_collision_2016.csv\"\n",
    "df = pd.read_csv(path)\n",
    "df.head()"
   ]
  },
  {
   "cell_type": "code",
   "execution_count": 3,
   "metadata": {},
   "outputs": [
    {
     "data": {
      "text/html": [
       "<div>\n",
       "<style scoped>\n",
       "    .dataframe tbody tr th:only-of-type {\n",
       "        vertical-align: middle;\n",
       "    }\n",
       "\n",
       "    .dataframe tbody tr th {\n",
       "        vertical-align: top;\n",
       "    }\n",
       "\n",
       "    .dataframe thead th {\n",
       "        text-align: right;\n",
       "    }\n",
       "</style>\n",
       "<table border=\"1\" class=\"dataframe\">\n",
       "  <thead>\n",
       "    <tr style=\"text-align: right;\">\n",
       "      <th></th>\n",
       "      <th>Temp High</th>\n",
       "      <th>Temp Low</th>\n",
       "      <th>Rain level (inches)</th>\n",
       "      <th>Collision Count</th>\n",
       "    </tr>\n",
       "  </thead>\n",
       "  <tbody>\n",
       "    <tr>\n",
       "      <th>Temp High</th>\n",
       "      <td>1.000000</td>\n",
       "      <td>0.854394</td>\n",
       "      <td>-0.226162</td>\n",
       "      <td>0.259874</td>\n",
       "    </tr>\n",
       "    <tr>\n",
       "      <th>Temp Low</th>\n",
       "      <td>0.854394</td>\n",
       "      <td>1.000000</td>\n",
       "      <td>-0.209684</td>\n",
       "      <td>0.196831</td>\n",
       "    </tr>\n",
       "    <tr>\n",
       "      <th>Rain level (inches)</th>\n",
       "      <td>-0.226162</td>\n",
       "      <td>-0.209684</td>\n",
       "      <td>1.000000</td>\n",
       "      <td>0.014150</td>\n",
       "    </tr>\n",
       "    <tr>\n",
       "      <th>Collision Count</th>\n",
       "      <td>0.259874</td>\n",
       "      <td>0.196831</td>\n",
       "      <td>0.014150</td>\n",
       "      <td>1.000000</td>\n",
       "    </tr>\n",
       "  </tbody>\n",
       "</table>\n",
       "</div>"
      ],
      "text/plain": [
       "                     Temp High  Temp Low  Rain level (inches)  Collision Count\n",
       "Temp High             1.000000  0.854394            -0.226162         0.259874\n",
       "Temp Low              0.854394  1.000000            -0.209684         0.196831\n",
       "Rain level (inches)  -0.226162 -0.209684             1.000000         0.014150\n",
       "Collision Count       0.259874  0.196831             0.014150         1.000000"
      ]
     },
     "execution_count": 3,
     "metadata": {},
     "output_type": "execute_result"
    }
   ],
   "source": [
    "df.corr()"
   ]
  },
  {
   "cell_type": "code",
   "execution_count": 4,
   "metadata": {},
   "outputs": [],
   "source": [
    "x = df.iloc[:,1]\n",
    "y = df.iloc[:,4]"
   ]
  },
  {
   "cell_type": "code",
   "execution_count": 5,
   "metadata": {},
   "outputs": [
    {
     "data": {
      "image/png": "[encoded data removed]",
      "text/plain": [
       "<Figure size 432x288 with 1 Axes>"
      ]
     },
     "metadata": {},
     "output_type": "display_data"
    }
   ],
   "source": [
    "plt.scatter(x,y)\n",
    "plt.show()"
   ]
  },
  {
   "cell_type": "code",
   "execution_count": 6,
   "metadata": {},
   "outputs": [
    {
     "data": {
      "text/html": [
       "<div>\n",
       "<style scoped>\n",
       "    .dataframe tbody tr th:only-of-type {\n",
       "        vertical-align: middle;\n",
       "    }\n",
       "\n",
       "    .dataframe tbody tr th {\n",
       "        vertical-align: top;\n",
       "    }\n",
       "\n",
       "    .dataframe thead th {\n",
       "        text-align: right;\n",
       "    }\n",
       "</style>\n",
       "<table border=\"1\" class=\"dataframe\">\n",
       "  <thead>\n",
       "    <tr style=\"text-align: right;\">\n",
       "      <th></th>\n",
       "      <th>Date</th>\n",
       "      <th>Temp High</th>\n",
       "      <th>Temp Low</th>\n",
       "      <th>Rain level (inches)</th>\n",
       "      <th>Collision Count</th>\n",
       "      <th>Temp Group</th>\n",
       "    </tr>\n",
       "  </thead>\n",
       "  <tbody>\n",
       "    <tr>\n",
       "      <th>0</th>\n",
       "      <td>1/1/2016</td>\n",
       "      <td>64.34</td>\n",
       "      <td>46.96</td>\n",
       "      <td>0.000</td>\n",
       "      <td>137</td>\n",
       "      <td>&lt;65</td>\n",
       "    </tr>\n",
       "    <tr>\n",
       "      <th>1</th>\n",
       "      <td>1/2/2016</td>\n",
       "      <td>64.67</td>\n",
       "      <td>46.02</td>\n",
       "      <td>0.000</td>\n",
       "      <td>97</td>\n",
       "      <td>&lt;65</td>\n",
       "    </tr>\n",
       "    <tr>\n",
       "      <th>2</th>\n",
       "      <td>1/3/2016</td>\n",
       "      <td>61.68</td>\n",
       "      <td>54.76</td>\n",
       "      <td>0.000</td>\n",
       "      <td>101</td>\n",
       "      <td>&lt;65</td>\n",
       "    </tr>\n",
       "    <tr>\n",
       "      <th>3</th>\n",
       "      <td>1/4/2016</td>\n",
       "      <td>67.59</td>\n",
       "      <td>55.12</td>\n",
       "      <td>0.001</td>\n",
       "      <td>122</td>\n",
       "      <td>[65,70)</td>\n",
       "    </tr>\n",
       "    <tr>\n",
       "      <th>4</th>\n",
       "      <td>1/5/2016</td>\n",
       "      <td>56.98</td>\n",
       "      <td>47.89</td>\n",
       "      <td>1.173</td>\n",
       "      <td>128</td>\n",
       "      <td>&lt;65</td>\n",
       "    </tr>\n",
       "  </tbody>\n",
       "</table>\n",
       "</div>"
      ],
      "text/plain": [
       "       Date  Temp High  Temp Low  Rain level (inches)  Collision Count  \\\n",
       "0  1/1/2016      64.34     46.96                0.000              137   \n",
       "1  1/2/2016      64.67     46.02                0.000               97   \n",
       "2  1/3/2016      61.68     54.76                0.000              101   \n",
       "3  1/4/2016      67.59     55.12                0.001              122   \n",
       "4  1/5/2016      56.98     47.89                1.173              128   \n",
       "\n",
       "  Temp Group  \n",
       "0        <65  \n",
       "1        <65  \n",
       "2        <65  \n",
       "3    [65,70)  \n",
       "4        <65  "
      ]
     },
     "execution_count": 6,
     "metadata": {},
     "output_type": "execute_result"
    }
   ],
   "source": [
    "#cut bins to seperate into several groups\n",
    "bins=[0,65,70,75,80,85,90,200]\n",
    "group_names = [\"<65\",\"[65,70)\",\"[70,75)\",\"[75,80)\",\"[80,85)\",\"[85,90)\",\">=90\"]\n",
    "df[\"Temp Group\"]=pd.cut(df[\"Temp High\"],bins,labels=group_names)\n",
    "df.head()"
   ]
  },
  {
   "cell_type": "code",
   "execution_count": 7,
   "metadata": {},
   "outputs": [],
   "source": [
    "collision_less65=df[df[\"Temp Group\"]==\"<65\"]\n",
    "collision_65to70=df[df[\"Temp Group\"]==\"[65,70)\"]\n",
    "collision_70to75=df[df[\"Temp Group\"]==\"[70,75)\"]\n",
    "collision_75to80=df[df[\"Temp Group\"]==\"[75,80)\"]\n",
    "collision_80to85=df[df[\"Temp Group\"]==\"[80,85)\"]\n",
    "collision_85to90=df[df[\"Temp Group\"]==\"[85,90)\"]\n",
    "collision_more90=df[df[\"Temp Group\"]==\">=90\"]"
   ]
  },
  {
   "cell_type": "code",
   "execution_count": 8,
   "metadata": {},
   "outputs": [
    {
     "data": {
      "text/html": [
       "<div>\n",
       "<style scoped>\n",
       "    .dataframe tbody tr th:only-of-type {\n",
       "        vertical-align: middle;\n",
       "    }\n",
       "\n",
       "    .dataframe tbody tr th {\n",
       "        vertical-align: top;\n",
       "    }\n",
       "\n",
       "    .dataframe thead th {\n",
       "        text-align: right;\n",
       "    }\n",
       "</style>\n",
       "<table border=\"1\" class=\"dataframe\">\n",
       "  <thead>\n",
       "    <tr style=\"text-align: right;\">\n",
       "      <th></th>\n",
       "      <th>Temp Group</th>\n",
       "      <th>Collision Count</th>\n",
       "    </tr>\n",
       "  </thead>\n",
       "  <tbody>\n",
       "    <tr>\n",
       "      <th>0</th>\n",
       "      <td>&lt;65</td>\n",
       "      <td>142.916667</td>\n",
       "    </tr>\n",
       "    <tr>\n",
       "      <th>1</th>\n",
       "      <td>[65,70)</td>\n",
       "      <td>154.750000</td>\n",
       "    </tr>\n",
       "    <tr>\n",
       "      <th>2</th>\n",
       "      <td>[70,75)</td>\n",
       "      <td>152.500000</td>\n",
       "    </tr>\n",
       "    <tr>\n",
       "      <th>3</th>\n",
       "      <td>[75,80)</td>\n",
       "      <td>153.196970</td>\n",
       "    </tr>\n",
       "    <tr>\n",
       "      <th>4</th>\n",
       "      <td>[80,85)</td>\n",
       "      <td>157.017857</td>\n",
       "    </tr>\n",
       "    <tr>\n",
       "      <th>5</th>\n",
       "      <td>[85,90)</td>\n",
       "      <td>160.363636</td>\n",
       "    </tr>\n",
       "    <tr>\n",
       "      <th>6</th>\n",
       "      <td>&gt;=90</td>\n",
       "      <td>162.894737</td>\n",
       "    </tr>\n",
       "  </tbody>\n",
       "</table>\n",
       "</div>"
      ],
      "text/plain": [
       "  Temp Group  Collision Count\n",
       "0        <65       142.916667\n",
       "1    [65,70)       154.750000\n",
       "2    [70,75)       152.500000\n",
       "3    [75,80)       153.196970\n",
       "4    [80,85)       157.017857\n",
       "5    [85,90)       160.363636\n",
       "6       >=90       162.894737"
      ]
     },
     "execution_count": 8,
     "metadata": {},
     "output_type": "execute_result"
    }
   ],
   "source": [
    "collision_mean = pd.DataFrame(df.groupby(\"Temp Group\")[\"Collision Count\"].mean()).reset_index()\n",
    "collision_mean"
   ]
  },
  {
   "cell_type": "code",
   "execution_count": 9,
   "metadata": {},
   "outputs": [
    {
     "data": {
      "image/png": "[encoded data removed]",
      "text/plain": [
       "<Figure size 432x288 with 1 Axes>"
      ]
     },
     "metadata": {},
     "output_type": "display_data"
    }
   ],
   "source": [
    "plt.bar(collision_mean[\"Temp Group\"],collision_mean[\"Collision Count\"])\n",
    "plt.ylim(140,165)\n",
    "plt.show()"
   ]
  },
  {
   "cell_type": "code",
   "execution_count": 16,
   "metadata": {},
   "outputs": [],
   "source": [
    "temp_list=[collision_less65[\"Collision Count\"],collision_65to70[\"Collision Count\"],collision_70to75[\"Collision Count\"]\\\n",
    "           ,collision_75to80[\"Collision Count\"],collision_80to85[\"Collision Count\"],collision_85to90[\"Collision Count\"]\\\n",
    "           ,collision_more90[\"Collision Count\"]]"
   ]
  },
  {
   "cell_type": "code",
   "execution_count": 17,
   "metadata": {},
   "outputs": [
    {
     "data": {
      "text/plain": [
       "{'whiskers': [<matplotlib.lines.Line2D at 0x1c1a435e80>,\n",
       "  <matplotlib.lines.Line2D at 0x1c1a43a358>,\n",
       "  <matplotlib.lines.Line2D at 0x1c1a443c88>,\n",
       "  <matplotlib.lines.Line2D at 0x1c1a43c0f0>,\n",
       "  <matplotlib.lines.Line2D at 0x1c1a454a20>,\n",
       "  <matplotlib.lines.Line2D at 0x1c1a454e48>,\n",
       "  <matplotlib.lines.Line2D at 0x1c1a4657b8>,\n",
       "  <matplotlib.lines.Line2D at 0x1c1a465be0>,\n",
       "  <matplotlib.lines.Line2D at 0x1c1a476550>,\n",
       "  <matplotlib.lines.Line2D at 0x1c1a476978>,\n",
       "  <matplotlib.lines.Line2D at 0x1c1a4892e8>,\n",
       "  <matplotlib.lines.Line2D at 0x1c1a489710>,\n",
       "  <matplotlib.lines.Line2D at 0x1c1a498080>,\n",
       "  <matplotlib.lines.Line2D at 0x1c1a4984a8>],\n",
       " 'caps': [<matplotlib.lines.Line2D at 0x1c1a43a780>,\n",
       "  <matplotlib.lines.Line2D at 0x1c1a43aba8>,\n",
       "  <matplotlib.lines.Line2D at 0x1c1a43c518>,\n",
       "  <matplotlib.lines.Line2D at 0x1c1a43c940>,\n",
       "  <matplotlib.lines.Line2D at 0x1c1a45c2b0>,\n",
       "  <matplotlib.lines.Line2D at 0x1c1a45c6d8>,\n",
       "  <matplotlib.lines.Line2D at 0x1c1a46e048>,\n",
       "  <matplotlib.lines.Line2D at 0x1c1a46e470>,\n",
       "  <matplotlib.lines.Line2D at 0x1c1a476da0>,\n",
       "  <matplotlib.lines.Line2D at 0x1c1a47e208>,\n",
       "  <matplotlib.lines.Line2D at 0x1c1a489b38>,\n",
       "  <matplotlib.lines.Line2D at 0x1c1a489f60>,\n",
       "  <matplotlib.lines.Line2D at 0x1c1a4988d0>,\n",
       "  <matplotlib.lines.Line2D at 0x1c1a498cf8>],\n",
       " 'boxes': [<matplotlib.lines.Line2D at 0x1c1a42cdd8>,\n",
       "  <matplotlib.lines.Line2D at 0x1c1a443828>,\n",
       "  <matplotlib.lines.Line2D at 0x1c1a4545c0>,\n",
       "  <matplotlib.lines.Line2D at 0x1c1a465358>,\n",
       "  <matplotlib.lines.Line2D at 0x1c1a4760f0>,\n",
       "  <matplotlib.lines.Line2D at 0x1c1a47ee48>,\n",
       "  <matplotlib.lines.Line2D at 0x1c1a490be0>],\n",
       " 'medians': [<matplotlib.lines.Line2D at 0x1c1a43afd0>,\n",
       "  <matplotlib.lines.Line2D at 0x1c1a43cd68>,\n",
       "  <matplotlib.lines.Line2D at 0x1c1a45cb00>,\n",
       "  <matplotlib.lines.Line2D at 0x1c1a46e898>,\n",
       "  <matplotlib.lines.Line2D at 0x1c1a47e630>,\n",
       "  <matplotlib.lines.Line2D at 0x1c1a4903c8>,\n",
       "  <matplotlib.lines.Line2D at 0x1c1a4a3160>],\n",
       " 'fliers': [<matplotlib.lines.Line2D at 0x1c1a443438>,\n",
       "  <matplotlib.lines.Line2D at 0x1c1a4541d0>,\n",
       "  <matplotlib.lines.Line2D at 0x1c1a45cf28>,\n",
       "  <matplotlib.lines.Line2D at 0x1c1a46ecc0>,\n",
       "  <matplotlib.lines.Line2D at 0x1c1a47ea58>,\n",
       "  <matplotlib.lines.Line2D at 0x1c1a4907f0>,\n",
       "  <matplotlib.lines.Line2D at 0x1c1a4a3588>],\n",
       " 'means': []}"
      ]
     },
     "execution_count": 17,
     "metadata": {},
     "output_type": "execute_result"
    },
    {
     "data": {
      "image/png": "[encoded data removed]",
      "text/plain": [
       "<Figure size 432x288 with 1 Axes>"
      ]
     },
     "metadata": {},
     "output_type": "display_data"
    }
   ],
   "source": [
    "plt.boxplot(temp_list,labels=collision_mean[\"Temp Group\"])"
   ]
  },
  {
   "cell_type": "code",
   "execution_count": 18,
   "metadata": {},
   "outputs": [],
   "source": [
    "population_list = df[\"Collision Count\"]\n",
    "sample1=collision_less65[\"Collision Count\"]"
   ]
  },
  {
   "cell_type": "code",
   "execution_count": 19,
   "metadata": {},
   "outputs": [
    {
     "data": {
      "text/plain": [
       "Ttest_1sampResult(statistic=-3.4313795074356666, pvalue=0.0012614248935393297)"
      ]
     },
     "execution_count": 19,
     "metadata": {},
     "output_type": "execute_result"
    }
   ],
   "source": [
    "stats.ttest_1samp(sample1,population_list.mean())"
   ]
  },
  {
   "cell_type": "code",
   "execution_count": 20,
   "metadata": {},
   "outputs": [
    {
     "data": {
      "text/plain": [
       "Ttest_1sampResult(statistic=3.3740305714198704, pvalue=0.001749731266063906)"
      ]
     },
     "execution_count": 20,
     "metadata": {},
     "output_type": "execute_result"
    }
   ],
   "source": [
    "sample2=collision_more90[\"Collision Count\"]\n",
    "stats.ttest_1samp(sample2,population_list.mean())"
   ]
  },
  {
   "cell_type": "code",
   "execution_count": null,
   "metadata": {},
   "outputs": [],
   "source": []
  },
  {
   "cell_type": "code",
   "execution_count": null,
   "metadata": {},
   "outputs": [],
   "source": []
  }
 ],
 "metadata": {
  "kernelspec": {
   "display_name": "Python [conda env:anaconda3]",
   "language": "python",
   "name": "conda-env-anaconda3-py"
  },
  "language_info": {
   "codemirror_mode": {
    "name": "ipython",
    "version": 3
   },
   "file_extension": ".py",
   "mimetype": "text/x-python",
   "name": "python",
   "nbconvert_exporter": "python",
   "pygments_lexer": "ipython3",
   "version": "3.6.5"
  }
 },
 "nbformat": 4,
 "nbformat_minor": 2
}
