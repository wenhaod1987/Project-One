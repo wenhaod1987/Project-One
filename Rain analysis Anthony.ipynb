{
 "cells": [
  {
   "cell_type": "markdown",
   "metadata": {},
   "source": [
    "# Rain and Collision Analysis\n",
    "\n",
    "* If rain has an effect on the number of traffic collisions in Los Angeles, then there will be a difference between the number of collisions on rainy and non-rainy workdays (Mon-Fri). \n",
    "\n",
    "* Focus on Mon-Fri as weekends may have extra variables that affect amount of traffic in a city like LA, such as sports events or festivals."
   ]
  },
  {
   "cell_type": "code",
   "execution_count": 175,
   "metadata": {},
   "outputs": [],
   "source": [
    "# Dependencies\n",
    "import csv\n",
    "import pandas as pd\n",
    "from matplotlib import pyplot as plt\n",
    "from scipy import stats\n",
    "import numpy as np\n",
    "import datetime as dt\n",
    "\n",
    "# Load csv\n",
    "file_to_load = \"Result/Daily_weather_and_collision_2016.csv\""
   ]
  },
  {
   "cell_type": "code",
   "execution_count": 218,
   "metadata": {},
   "outputs": [
    {
     "data": {
      "text/html": [
       "<div>\n",
       "<style scoped>\n",
       "    .dataframe tbody tr th:only-of-type {\n",
       "        vertical-align: middle;\n",
       "    }\n",
       "\n",
       "    .dataframe tbody tr th {\n",
       "        vertical-align: top;\n",
       "    }\n",
       "\n",
       "    .dataframe thead th {\n",
       "        text-align: right;\n",
       "    }\n",
       "</style>\n",
       "<table border=\"1\" class=\"dataframe\">\n",
       "  <thead>\n",
       "    <tr style=\"text-align: right;\">\n",
       "      <th></th>\n",
       "      <th>Date</th>\n",
       "      <th>Temp High</th>\n",
       "      <th>Temp Low</th>\n",
       "      <th>Rain level (inches)</th>\n",
       "      <th>Collision Count</th>\n",
       "      <th>Day of Week</th>\n",
       "    </tr>\n",
       "  </thead>\n",
       "  <tbody>\n",
       "    <tr>\n",
       "      <th>0</th>\n",
       "      <td>1/1/2016</td>\n",
       "      <td>64.34</td>\n",
       "      <td>46.96</td>\n",
       "      <td>0.0000</td>\n",
       "      <td>137</td>\n",
       "      <td>Friday</td>\n",
       "    </tr>\n",
       "    <tr>\n",
       "      <th>3</th>\n",
       "      <td>1/4/2016</td>\n",
       "      <td>67.59</td>\n",
       "      <td>55.12</td>\n",
       "      <td>0.0010</td>\n",
       "      <td>122</td>\n",
       "      <td>Monday</td>\n",
       "    </tr>\n",
       "    <tr>\n",
       "      <th>4</th>\n",
       "      <td>1/5/2016</td>\n",
       "      <td>56.98</td>\n",
       "      <td>47.89</td>\n",
       "      <td>1.1730</td>\n",
       "      <td>128</td>\n",
       "      <td>Tuesday</td>\n",
       "    </tr>\n",
       "    <tr>\n",
       "      <th>5</th>\n",
       "      <td>1/6/2016</td>\n",
       "      <td>55.21</td>\n",
       "      <td>46.48</td>\n",
       "      <td>0.8305</td>\n",
       "      <td>135</td>\n",
       "      <td>Wednesday</td>\n",
       "    </tr>\n",
       "    <tr>\n",
       "      <th>6</th>\n",
       "      <td>1/7/2016</td>\n",
       "      <td>57.41</td>\n",
       "      <td>44.41</td>\n",
       "      <td>0.3210</td>\n",
       "      <td>136</td>\n",
       "      <td>Thursday</td>\n",
       "    </tr>\n",
       "  </tbody>\n",
       "</table>\n",
       "</div>"
      ],
      "text/plain": [
       "       Date  Temp High  Temp Low  Rain level (inches)  Collision Count  \\\n",
       "0  1/1/2016      64.34     46.96               0.0000              137   \n",
       "3  1/4/2016      67.59     55.12               0.0010              122   \n",
       "4  1/5/2016      56.98     47.89               1.1730              128   \n",
       "5  1/6/2016      55.21     46.48               0.8305              135   \n",
       "6  1/7/2016      57.41     44.41               0.3210              136   \n",
       "\n",
       "  Day of Week  \n",
       "0      Friday  \n",
       "3      Monday  \n",
       "4     Tuesday  \n",
       "5   Wednesday  \n",
       "6    Thursday  "
      ]
     },
     "execution_count": 218,
     "metadata": {},
     "output_type": "execute_result"
    }
   ],
   "source": [
    "# Read csv as df\n",
    "weathercoll_df = pd.read_csv(file_to_load)\n",
    "\n",
    "# Create lists to store date data\n",
    "year_list=[]\n",
    "date_list=[]\n",
    "day_of_week=[]\n",
    "full_date = []\n",
    "\n",
    "# Add data to lists\n",
    "for date in weathercoll_df[\"Date\"]:\n",
    "    date= datetime.datetime.strptime(date,'%m/%d/%Y')\n",
    "    full_date.append(f\"{date.year}-{date.month}-{date.day}\")\n",
    "    year_list.append(date.year)\n",
    "    date_list.append(f\"{date.month}/{date.day}\")\n",
    "\n",
    "# add weekday column do dataframe\n",
    "weathercoll_df[\"Date in Full\"]=full_date\n",
    "weathercoll_df[\"Date in Full\"] = pd.to_datetime(weathercoll_df[\"Date in Full\"])\n",
    "weathercoll_df[\"Day of Week\"] = weathercoll_df[\"Date in Full\"].dt.day_name()\n",
    "\n",
    "# Remove Saturdays, Sundays\n",
    "saturday = weathercoll_df[weathercoll_df[\"Day of Week\"] == \"Saturday\"]\n",
    "sunday = weathercoll_df[weathercoll_df[\"Day of Week\"] == \"Sunday\"]\n",
    "weekdaycoll_df = weathercoll_df.drop(saturday.index, axis=0)\n",
    "weekdaycoll_df = weekdaycoll_df.drop(sunday.index, axis=0)\n",
    "weekdaycoll_df = weekdaycoll_df.drop([\"Date in Full\"], axis=1)\n",
    "weekdaycoll_df.head()"
   ]
  },
  {
   "cell_type": "markdown",
   "metadata": {},
   "source": [
    "# Data Cleanup\n",
    "\n",
    "### Splitting above dataframe into two dataframes, based on Rain level being above or below 0.001 inches of rain"
   ]
  },
  {
   "cell_type": "code",
   "execution_count": 219,
   "metadata": {},
   "outputs": [
    {
     "data": {
      "text/html": [
       "<div>\n",
       "<style scoped>\n",
       "    .dataframe tbody tr th:only-of-type {\n",
       "        vertical-align: middle;\n",
       "    }\n",
       "\n",
       "    .dataframe tbody tr th {\n",
       "        vertical-align: top;\n",
       "    }\n",
       "\n",
       "    .dataframe thead th {\n",
       "        text-align: right;\n",
       "    }\n",
       "</style>\n",
       "<table border=\"1\" class=\"dataframe\">\n",
       "  <thead>\n",
       "    <tr style=\"text-align: right;\">\n",
       "      <th></th>\n",
       "      <th>Date</th>\n",
       "      <th>Rain level (inches)</th>\n",
       "      <th>Collision Count</th>\n",
       "      <th>Day of Week</th>\n",
       "    </tr>\n",
       "  </thead>\n",
       "  <tbody>\n",
       "    <tr>\n",
       "      <th>354</th>\n",
       "      <td>12/20/2016</td>\n",
       "      <td>3.2865</td>\n",
       "      <td>137</td>\n",
       "      <td>Tuesday</td>\n",
       "    </tr>\n",
       "    <tr>\n",
       "      <th>357</th>\n",
       "      <td>12/23/2016</td>\n",
       "      <td>1.3290</td>\n",
       "      <td>183</td>\n",
       "      <td>Friday</td>\n",
       "    </tr>\n",
       "    <tr>\n",
       "      <th>4</th>\n",
       "      <td>1/5/2016</td>\n",
       "      <td>1.1730</td>\n",
       "      <td>128</td>\n",
       "      <td>Tuesday</td>\n",
       "    </tr>\n",
       "    <tr>\n",
       "      <th>70</th>\n",
       "      <td>3/11/2016</td>\n",
       "      <td>0.8880</td>\n",
       "      <td>185</td>\n",
       "      <td>Friday</td>\n",
       "    </tr>\n",
       "    <tr>\n",
       "      <th>5</th>\n",
       "      <td>1/6/2016</td>\n",
       "      <td>0.8305</td>\n",
       "      <td>135</td>\n",
       "      <td>Wednesday</td>\n",
       "    </tr>\n",
       "  </tbody>\n",
       "</table>\n",
       "</div>"
      ],
      "text/plain": [
       "           Date  Rain level (inches)  Collision Count Day of Week\n",
       "354  12/20/2016               3.2865              137     Tuesday\n",
       "357  12/23/2016               1.3290              183      Friday\n",
       "4      1/5/2016               1.1730              128     Tuesday\n",
       "70    3/11/2016               0.8880              185      Friday\n",
       "5      1/6/2016               0.8305              135   Wednesday"
      ]
     },
     "execution_count": 219,
     "metadata": {},
     "output_type": "execute_result"
    }
   ],
   "source": [
    "# Sort df by highest rain to lowest\n",
    "rainlevel_df = weekdaycoll_df.sort_values(by=\"Rain level (inches)\", ascending = False)\n",
    "\n",
    "# Delete irrelevant columns\n",
    "rainlevel_df = rainlevel_df.drop([\"Temp High\", \"Temp Low\"], axis=1)\n",
    "\n",
    "# Create table of days only with more than 0.09 inches of rain\n",
    "raining = rainlevel_df[rainlevel_df[\"Rain level (inches)\"] <= 0.001]\n",
    "rain_df = rainlevel_df.drop(raining.index, axis=0)\n",
    "rain_df.head()"
   ]
  },
  {
   "cell_type": "code",
   "execution_count": 220,
   "metadata": {},
   "outputs": [
    {
     "data": {
      "text/html": [
       "<div>\n",
       "<style scoped>\n",
       "    .dataframe tbody tr th:only-of-type {\n",
       "        vertical-align: middle;\n",
       "    }\n",
       "\n",
       "    .dataframe tbody tr th {\n",
       "        vertical-align: top;\n",
       "    }\n",
       "\n",
       "    .dataframe thead th {\n",
       "        text-align: right;\n",
       "    }\n",
       "</style>\n",
       "<table border=\"1\" class=\"dataframe\">\n",
       "  <thead>\n",
       "    <tr style=\"text-align: right;\">\n",
       "      <th></th>\n",
       "      <th>Date</th>\n",
       "      <th>Rain level (inches)</th>\n",
       "      <th>Collision Count</th>\n",
       "      <th>Day of Week</th>\n",
       "    </tr>\n",
       "  </thead>\n",
       "  <tbody>\n",
       "    <tr>\n",
       "      <th>360</th>\n",
       "      <td>12/26/2016</td>\n",
       "      <td>0.001</td>\n",
       "      <td>115</td>\n",
       "      <td>Monday</td>\n",
       "    </tr>\n",
       "    <tr>\n",
       "      <th>305</th>\n",
       "      <td>11/1/2016</td>\n",
       "      <td>0.001</td>\n",
       "      <td>166</td>\n",
       "      <td>Tuesday</td>\n",
       "    </tr>\n",
       "    <tr>\n",
       "      <th>230</th>\n",
       "      <td>8/18/2016</td>\n",
       "      <td>0.001</td>\n",
       "      <td>146</td>\n",
       "      <td>Thursday</td>\n",
       "    </tr>\n",
       "    <tr>\n",
       "      <th>166</th>\n",
       "      <td>6/15/2016</td>\n",
       "      <td>0.001</td>\n",
       "      <td>139</td>\n",
       "      <td>Wednesday</td>\n",
       "    </tr>\n",
       "    <tr>\n",
       "      <th>13</th>\n",
       "      <td>1/14/2016</td>\n",
       "      <td>0.001</td>\n",
       "      <td>133</td>\n",
       "      <td>Thursday</td>\n",
       "    </tr>\n",
       "  </tbody>\n",
       "</table>\n",
       "</div>"
      ],
      "text/plain": [
       "           Date  Rain level (inches)  Collision Count Day of Week\n",
       "360  12/26/2016                0.001              115      Monday\n",
       "305   11/1/2016                0.001              166     Tuesday\n",
       "230   8/18/2016                0.001              146    Thursday\n",
       "166   6/15/2016                0.001              139   Wednesday\n",
       "13    1/14/2016                0.001              133    Thursday"
      ]
     },
     "execution_count": 220,
     "metadata": {},
     "output_type": "execute_result"
    }
   ],
   "source": [
    "# Create table of days only with less than 0.09 inches of rain\n",
    "rainless = rainlevel_df[rainlevel_df[\"Rain level (inches)\"] > 0.001]\n",
    "rainless_df = rainlevel_df.drop(rainless.index, axis=0)\n",
    "rainless_df.head()"
   ]
  },
  {
   "cell_type": "markdown",
   "metadata": {},
   "source": [
    "# Scatterplot analysis\n",
    "\n",
    "### Judging from the scatterplot below, there does not seem to be a notable difference in collisions per day between rainy and non-rainy days. There are two outliers for this graph that happen to be rainy days, however they appear to be coincidental to rain."
   ]
  },
  {
   "cell_type": "code",
   "execution_count": 225,
   "metadata": {},
   "outputs": [
    {
     "data": {
      "text/plain": [
       "<matplotlib.legend.Legend at 0x25e9a8dc588>"
      ]
     },
     "execution_count": 225,
     "metadata": {},
     "output_type": "execute_result"
    },
    {
     "data": {
      "image/png": "[encoded data removed]",
      "text/plain": [
       "<Figure size 432x288 with 1 Axes>"
      ]
     },
     "metadata": {},
     "output_type": "display_data"
    }
   ],
   "source": [
    "# Scatterplot rainy vs no rain\n",
    "x_limit = len(weathercoll_df[\"Date\"])\n",
    "x_axis = np.arange(0, x_limit, 1)\n",
    "\n",
    "data_rain = rain_df[\"Collision Count\"]\n",
    "data_rainless = rainless_df[\"Collision Count\"]\n",
    "\n",
    "plt.scatter(data_rain.index, data_rain, marker=\"o\", facecolors='blue', label=\"rainy day\")\n",
    "plt.scatter(data_rainless.index, data_rainless, marker=\"o\", facecolors='red', label=\"no rain\")\n",
    "plt.xlabel(\"Day of the year\")\n",
    "plt.ylabel(\"Number of collisions\")\n",
    "plt.title(\"Effects of rain on Collisions per day (2016)\")\n",
    "plt.legend()"
   ]
  },
  {
   "cell_type": "markdown",
   "metadata": {},
   "source": [
    "# Bar plot analysis\n",
    "\n",
    "### \"IF\" the p-value from a t-test shows that the difference between these two means are statistically significant, and not by coincidence, then we can conclude that rainy days make a difference in the amount of traffic collisions. However, judging by this bar graph of the means, the difference may not be that high, as the average number of collisions for both categories are very close to each other. "
   ]
  },
  {
   "cell_type": "code",
   "execution_count": 222,
   "metadata": {},
   "outputs": [
    {
     "data": {
      "text/plain": [
       "(0, 180)"
      ]
     },
     "execution_count": 222,
     "metadata": {},
     "output_type": "execute_result"
    },
    {
     "data": {
      "image/png": "[encoded data removed]",
      "text/plain": [
       "<Figure size 432x288 with 1 Axes>"
      ]
     },
     "metadata": {},
     "output_type": "display_data"
    }
   ],
   "source": [
    "# Bar plot comparing means\n",
    "rain_mean = data_rain.mean()\n",
    "rainless_mean = data_rainless.mean()\n",
    "means = [rain_mean, rainless_mean]\n",
    "bar_label = [\"Rainy day\", \"No rain\"]\n",
    "colors = ['b', 'r']\n",
    "plt.bar(bar_label, means, color=colors)\n",
    "plt.text(-.1, 160, \"{0:.2f}\".format(round(rain_mean)))\n",
    "plt.text(.9, 160, \"{0:.2f}\".format(round(rainless_mean)))\n",
    "plt.title(\"Mean of collisions per type of day\")\n",
    "plt.ylabel(\"Number of collisions\")\n",
    "plt.ylim(0,180)"
   ]
  },
  {
   "cell_type": "code",
   "execution_count": 223,
   "metadata": {},
   "outputs": [
    {
     "name": "stdout",
     "output_type": "stream",
     "text": [
      "The p-value is 0.3009427725318841.\n",
      "The t-statistic is -1.0435164061279734.\n"
     ]
    }
   ],
   "source": [
    "# Run t-test; Welch's test as sample sizes are not equal\n",
    "(statistic, pvalue) = stats.ttest_ind(data_rain, data_rainless, equal_var=False) \n",
    "print(f\"The p-value is {pvalue}.\") \n",
    "print(f\"The t-statistic is {statistic}.\") "
   ]
  },
  {
   "cell_type": "markdown",
   "metadata": {},
   "source": [
    "# Conclusion\n",
    "----\n",
    "\n",
    "### Analysis\n",
    "\n",
    "* From the tests ran on the data, the t-test shows that the difference in accidents between rainy and non-rainy days are not statistically significant. We could not conclude that rainy days have an affect on the average number of collisions per day. This may seem surprising, as we may associate rain with more hazardous road conditions. Thus, this finding may be attributed to drivers adjusting their behaviors in anticipation of rain and wet roads. People may drive more cautiously and/or speed less, negating any possible increase in risk from rainy conditions, if any. \n",
    "\n",
    "* Looking at the two outlier days where there were the most traffic collisions in the year, the amount of rainfall was below 0.5 inches of rain for each respective day, suggesting that any trend with amount of precipitation and amount of accidents would likely be coincidental, and the high amount of accidents would likely be explained by another variable.\n",
    "\n",
    "* There also may not be enough data to conclusively determine the effects on rain on traffic collisions. There was about 16 inches of rain in Los Angeles in 2016, which was considered an uprise from California's recent drought. Even in the few days there was rain, there was reportedly not a lot of it. If this test were to be reran, an improvement would be to choose a different year or area where the number of rainy days are higher, ideally as close to half of the year as possible. "
   ]
  },
  {
   "cell_type": "code",
   "execution_count": null,
   "metadata": {},
   "outputs": [],
   "source": []
  }
 ],
 "metadata": {
  "kernelspec": {
   "display_name": "Python [conda env:PythonData]",
   "language": "python",
   "name": "conda-env-PythonData-py"
  },
  "language_info": {
   "codemirror_mode": {
    "name": "ipython",
    "version": 3
   },
   "file_extension": ".py",
   "mimetype": "text/x-python",
   "name": "python",
   "nbconvert_exporter": "python",
   "pygments_lexer": "ipython3",
   "version": "3.6.5"
  }
 },
 "nbformat": 4,
 "nbformat_minor": 2
}
