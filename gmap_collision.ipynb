{
 "cells": [
  {
   "cell_type": "code",
   "execution_count": 4,
   "metadata": {},
   "outputs": [],
   "source": [
    "import gmaps\n",
    "import pandas as pd\n",
    "\n",
    "\n",
    "# Google developer API key\n",
    "from config import gkey\n",
    "\n",
    "# Access maps with unique API key\n",
    "gmaps.configure(api_key=gkey)"
   ]
  },
  {
   "cell_type": "code",
   "execution_count": 5,
   "metadata": {},
   "outputs": [
    {
     "data": {
      "text/html": [
       "<div>\n",
       "<style scoped>\n",
       "    .dataframe tbody tr th:only-of-type {\n",
       "        vertical-align: middle;\n",
       "    }\n",
       "\n",
       "    .dataframe tbody tr th {\n",
       "        vertical-align: top;\n",
       "    }\n",
       "\n",
       "    .dataframe thead th {\n",
       "        text-align: right;\n",
       "    }\n",
       "</style>\n",
       "<table border=\"1\" class=\"dataframe\">\n",
       "  <thead>\n",
       "    <tr style=\"text-align: right;\">\n",
       "      <th></th>\n",
       "      <th>Date Occurred</th>\n",
       "      <th>Time Occurred</th>\n",
       "      <th>Area ID</th>\n",
       "      <th>Area Name</th>\n",
       "      <th>Victim Age</th>\n",
       "      <th>Address</th>\n",
       "      <th>Cross Street</th>\n",
       "      <th>Location</th>\n",
       "      <th>Date in Full</th>\n",
       "      <th>Day of Week</th>\n",
       "      <th>Year</th>\n",
       "      <th>Date</th>\n",
       "    </tr>\n",
       "  </thead>\n",
       "  <tbody>\n",
       "    <tr>\n",
       "      <th>0</th>\n",
       "      <td>01/03/2016</td>\n",
       "      <td>1950</td>\n",
       "      <td>12</td>\n",
       "      <td>77th Street</td>\n",
       "      <td>39.0</td>\n",
       "      <td>VERNON                       AV</td>\n",
       "      <td>HOOVER                       ST</td>\n",
       "      <td>(34.0037, -118.2878)</td>\n",
       "      <td>2016-01-03</td>\n",
       "      <td>Sunday</td>\n",
       "      <td>2016</td>\n",
       "      <td>1/3</td>\n",
       "    </tr>\n",
       "    <tr>\n",
       "      <th>1</th>\n",
       "      <td>02/05/2016</td>\n",
       "      <td>1835</td>\n",
       "      <td>1</td>\n",
       "      <td>Central</td>\n",
       "      <td>44.0</td>\n",
       "      <td>HOPE</td>\n",
       "      <td>3RD</td>\n",
       "      <td>(34.0525, -118.2535)</td>\n",
       "      <td>2016-02-05</td>\n",
       "      <td>Friday</td>\n",
       "      <td>2016</td>\n",
       "      <td>2/5</td>\n",
       "    </tr>\n",
       "    <tr>\n",
       "      <th>2</th>\n",
       "      <td>10/20/2016</td>\n",
       "      <td>950</td>\n",
       "      <td>1</td>\n",
       "      <td>Central</td>\n",
       "      <td>46.0</td>\n",
       "      <td>5TH</td>\n",
       "      <td>MAIN</td>\n",
       "      <td>(34.0471, -118.2491)</td>\n",
       "      <td>2016-10-20</td>\n",
       "      <td>Thursday</td>\n",
       "      <td>2016</td>\n",
       "      <td>10/20</td>\n",
       "    </tr>\n",
       "    <tr>\n",
       "      <th>3</th>\n",
       "      <td>10/20/2016</td>\n",
       "      <td>1216</td>\n",
       "      <td>1</td>\n",
       "      <td>Central</td>\n",
       "      <td>53.0</td>\n",
       "      <td>HILL</td>\n",
       "      <td>8TH</td>\n",
       "      <td>(34.0467, -118.252)</td>\n",
       "      <td>2016-10-20</td>\n",
       "      <td>Thursday</td>\n",
       "      <td>2016</td>\n",
       "      <td>10/20</td>\n",
       "    </tr>\n",
       "    <tr>\n",
       "      <th>4</th>\n",
       "      <td>03/29/2016</td>\n",
       "      <td>1445</td>\n",
       "      <td>3</td>\n",
       "      <td>Southwest</td>\n",
       "      <td>27.0</td>\n",
       "      <td>BUDLONG</td>\n",
       "      <td>ADAMS</td>\n",
       "      <td>(34.0328, -118.2964)</td>\n",
       "      <td>2016-03-29</td>\n",
       "      <td>Tuesday</td>\n",
       "      <td>2016</td>\n",
       "      <td>3/29</td>\n",
       "    </tr>\n",
       "  </tbody>\n",
       "</table>\n",
       "</div>"
      ],
      "text/plain": [
       "  Date Occurred  Time Occurred  Area ID    Area Name  Victim Age  \\\n",
       "0    01/03/2016           1950       12  77th Street        39.0   \n",
       "1    02/05/2016           1835        1      Central        44.0   \n",
       "2    10/20/2016            950        1      Central        46.0   \n",
       "3    10/20/2016           1216        1      Central        53.0   \n",
       "4    03/29/2016           1445        3    Southwest        27.0   \n",
       "\n",
       "                           Address                     Cross Street  \\\n",
       "0  VERNON                       AV  HOOVER                       ST   \n",
       "1                             HOPE                              3RD   \n",
       "2                              5TH                             MAIN   \n",
       "3                             HILL                              8TH   \n",
       "4                          BUDLONG                            ADAMS   \n",
       "\n",
       "               Location Date in Full Day of Week  Year   Date  \n",
       "0  (34.0037, -118.2878)   2016-01-03      Sunday  2016    1/3  \n",
       "1  (34.0525, -118.2535)   2016-02-05      Friday  2016    2/5  \n",
       "2  (34.0471, -118.2491)   2016-10-20    Thursday  2016  10/20  \n",
       "3   (34.0467, -118.252)   2016-10-20    Thursday  2016  10/20  \n",
       "4  (34.0328, -118.2964)   2016-03-29     Tuesday  2016   3/29  "
      ]
     },
     "execution_count": 5,
     "metadata": {},
     "output_type": "execute_result"
    }
   ],
   "source": [
    "file_pash = \"Result/Traffic_Collision_Data_2016.csv\"\n",
    "collision_df = pd.DataFrame(pd.read_csv(file_pash))\n",
    "collision_withlocation = collision_df[collision_df[\"Location\"]!=\"(0, 0)\"]\n",
    "collision_withlocation.head()\n"
   ]
  },
  {
   "cell_type": "code",
   "execution_count": 33,
   "metadata": {},
   "outputs": [
    {
     "data": {
      "text/plain": [
       "Date Occurred    197\n",
       "Time Occurred    197\n",
       "Area ID          197\n",
       "Area Name        197\n",
       "Victim Age       178\n",
       "Address          197\n",
       "Cross Street     184\n",
       "Location         197\n",
       "Date in Full     197\n",
       "Day of Week      197\n",
       "Year             197\n",
       "Date             197\n",
       "dtype: int64"
      ]
     },
     "execution_count": 33,
     "metadata": {},
     "output_type": "execute_result"
    }
   ],
   "source": [
    "first_count = collision_withlocation[collision_withlocation[\"Date Occurred\"]==\"12/02/2016\"]\n",
    "first_count.count()"
   ]
  },
  {
   "cell_type": "code",
   "execution_count": 34,
   "metadata": {},
   "outputs": [],
   "source": [
    "\n",
    "location_list = list(first_count[\"Location\"])\n"
   ]
  },
  {
   "cell_type": "code",
   "execution_count": 35,
   "metadata": {},
   "outputs": [],
   "source": [
    "lat=[]\n",
    "lng=[]\n",
    "for x in location_list:   \n",
    "    lat.append(x.split(\",\")[0][1:])\n",
    "    lng.append(x.split(\",\")[1][:-1])\n",
    "lat = list(pd.to_numeric(lat))\n",
    "lng = list(pd.to_numeric(lng))\n"
   ]
  },
  {
   "cell_type": "code",
   "execution_count": 36,
   "metadata": {},
   "outputs": [
    {
     "data": {
      "text/plain": [
       "197"
      ]
     },
     "execution_count": 36,
     "metadata": {},
     "output_type": "execute_result"
    }
   ],
   "source": [
    "coordinate = zip(lat,lng)\n",
    "coordinate=list(coordinate)\n",
    "len(coordinate)"
   ]
  },
  {
   "cell_type": "code",
   "execution_count": 37,
   "metadata": {},
   "outputs": [
    {
     "data": {
      "application/vnd.jupyter.widget-view+json": {
       "model_id": "2cce32f00b96492dab2de88ced8cb1c4",
       "version_major": 2,
       "version_minor": 0
      },
      "text/plain": [
       "Figure(layout=FigureLayout(border='1px solid black', height='300px', margin='0 auto 0 auto', padding='1px', wi…"
      ]
     },
     "metadata": {},
     "output_type": "display_data"
    }
   ],
   "source": [
    "# Customize the size of the figure\n",
    "figure_layout = {\n",
    "    'width': '400px',\n",
    "    'height': '300px',\n",
    "    'border': '1px solid black',\n",
    "    'padding': '1px',\n",
    "    'margin': '0 auto 0 auto'\n",
    "}\n",
    "fig = gmaps.figure(layout=figure_layout)\n",
    "fig"
   ]
  },
  {
   "cell_type": "code",
   "execution_count": 38,
   "metadata": {},
   "outputs": [
    {
     "data": {
      "application/vnd.jupyter.widget-view+json": {
       "model_id": "2cce32f00b96492dab2de88ced8cb1c4",
       "version_major": 2,
       "version_minor": 0
      },
      "text/plain": [
       "Figure(layout=FigureLayout(border='1px solid black', height='300px', margin='0 auto 0 auto', padding='1px', wi…"
      ]
     },
     "metadata": {},
     "output_type": "display_data"
    }
   ],
   "source": [
    "# Assign the marker layer to a variable\n",
    "markers = gmaps.marker_layer(coordinate)\n",
    "# Add the layer to the map\n",
    "fig.add_layer(markers)\n",
    "fig"
   ]
  },
  {
   "cell_type": "code",
   "execution_count": null,
   "metadata": {},
   "outputs": [],
   "source": []
  }
 ],
 "metadata": {
  "kernelspec": {
   "display_name": "Python [conda env:DanielData]",
   "language": "python",
   "name": "conda-env-DanielData-py"
  },
  "language_info": {
   "codemirror_mode": {
    "name": "ipython",
    "version": 3
   },
   "file_extension": ".py",
   "mimetype": "text/x-python",
   "name": "python",
   "nbconvert_exporter": "python",
   "pygments_lexer": "ipython3",
   "version": "3.6.5"
  }
 },
 "nbformat": 4,
 "nbformat_minor": 2
}
